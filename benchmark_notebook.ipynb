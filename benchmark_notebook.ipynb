{
 "cells": [
  {
   "cell_type": "code",
   "execution_count": 37,
   "id": "4bb7a569",
   "metadata": {},
   "outputs": [],
   "source": [
    "# !pip install numpy\n",
    "# !pip install matplotlib\n",
    "# Basic setup: imports and define helper functions\n",
    "import asyncio, asyncssh, sys, time\n",
    "import numpy as np\n",
    "import matplotlib.pyplot as plt\n",
    "\n",
    "ssh_connections = {}\n",
    "%store -r\n",
    "\n",
    "async def start_connection(hostname):\n",
    "    if hostname not in ssh_connections:\n",
    "        ssh_connections[hostname] = await asyncssh.connect(hostname, known_hosts=None)\n",
    "    return ssh_connections[hostname]\n",
    "\n",
    "async def run_command(hostname, command):\n",
    "    conn = await start_connection(hostname)\n",
    "    return (await conn.create_process(command))\n",
    "\n",
    "async def run_server(hostname):\n",
    "    return (await run_command(hostname, '/mydata/localuser/frida/server/server'))\n",
    "\n",
    "async def run_client(hostname, device_id, duration = 10, keepout = 1, datasize = 32, server=\"http://node0:8080\"):\n",
    "    return (await run_command(hostname, '/mydata/localuser/frida/experiments/throughput_bench/client {} {} {} {} {}'.format(device_id, duration,keepout,datasize,server)))\n",
    "\n",
    "async def clear_server_storage(hostname):\n",
    "    await run_command(hostname, \"rm -r ~/storage\")\n",
    "\n",
    "async def kill_server(hostname):\n",
    "    await run_command(hostname, \"pkill server\")\n",
    "    \n",
    "def parse_throughput(tstr):\n",
    "    return float(tstr.split(\",\")[1])\n"
   ]
  },
  {
   "cell_type": "code",
   "execution_count": 33,
   "id": "2b35b0b5",
   "metadata": {},
   "outputs": [
    {
     "data": {
      "text/plain": [
       "[37.0,\n",
       " 46.566666000000005,\n",
       " 51.733332000000004,\n",
       " 53.766665,\n",
       " 58.30000150000001,\n",
       " 60.266666400000005,\n",
       " 60.80000300000001,\n",
       " 62.80000080000001,\n",
       " 64.26666559999998,\n",
       " 65.20000030000001]"
      ]
     },
     "execution_count": 33,
     "metadata": {},
     "output_type": "execute_result"
    }
   ],
   "source": [
    "throughputs"
   ]
  },
  {
   "cell_type": "code",
   "execution_count": 25,
   "id": "7b151a14",
   "metadata": {},
   "outputs": [],
   "source": [
    "# Run server for 10 seconds and then quit it, as a demo\n",
    "server_task = await run_server(\"node0\")\n",
    "# time.sleep(10)\n",
    "# server_task.terminate()"
   ]
  },
  {
   "cell_type": "code",
   "execution_count": 26,
   "id": "76bb225f",
   "metadata": {},
   "outputs": [
    {
     "data": {
      "text/plain": [
       "<asyncssh.process.SSHClientProcess at 0xffff5a23a940>"
      ]
     },
     "execution_count": 26,
     "metadata": {},
     "output_type": "execute_result"
    }
   ],
   "source": [
    "server_task = await run_server(\"node0\")\n",
    "client_task = await run_client(\"node1\", \"abcd\")\n",
    "# print(await client_task.stdout.read()) # TODO this blocks indefinitely\n",
    "# time.sleep(15)\n",
    "client_task.terminate()\n",
    "server_task.terminate()\n",
    "await run_command(\"node0\", \"rm -r ~/storage\")"
   ]
  },
  {
   "cell_type": "code",
   "execution_count": 38,
   "id": "1bef98dd",
   "metadata": {},
   "outputs": [
    {
     "name": "stdout",
     "output_type": "stream",
     "text": [
      "#Nodes=2, #Clients=2, Throughput = 157.3/s\n",
      "#Nodes=2, #Clients=4, Throughput = 159.29999999999998/s\n",
      "#Nodes=2, #Clients=6, Throughput = 159.6/s\n",
      "#Nodes=2, #Clients=8, Throughput = 159.20000000000002/s\n",
      "#Nodes=2, #Clients=10, Throughput = 157.1/s\n",
      "#Nodes=2, #Clients=12, Throughput = 158.5/s\n",
      "#Nodes=2, #Clients=14, Throughput = 159.60000000000005/s\n",
      "#Nodes=2, #Clients=16, Throughput = 158.9/s\n",
      "#Nodes=2, #Clients=18, Throughput = 158.90000000000003/s\n"
     ]
    },
    {
     "ename": "IndexError",
     "evalue": "list index out of range",
     "output_type": "error",
     "traceback": [
      "\u001b[0;31m---------------------------------------------------------------------------\u001b[0m",
      "\u001b[0;31mIndexError\u001b[0m                                Traceback (most recent call last)",
      "Cell \u001b[0;32mIn[38], line 22\u001b[0m\n\u001b[1;32m     20\u001b[0m         coutput \u001b[38;5;241m=\u001b[39m \u001b[38;5;28;01mawait\u001b[39;00m ctask\u001b[38;5;241m.\u001b[39mstdout\u001b[38;5;241m.\u001b[39mread()\n\u001b[1;32m     21\u001b[0m \u001b[38;5;66;03m#         print(coutput)\u001b[39;00m\n\u001b[0;32m---> 22\u001b[0m         local_throughputs\u001b[38;5;241m.\u001b[39mappend(parse_throughput(coutput))\n\u001b[1;32m     23\u001b[0m         ctask\u001b[38;5;241m.\u001b[39mterminate()\n\u001b[1;32m     25\u001b[0m     throughput \u001b[38;5;241m=\u001b[39m \u001b[38;5;28msum\u001b[39m(local_throughputs)\n",
      "Cell \u001b[0;32mIn[37], line 33\u001b[0m, in \u001b[0;36mparse_throughput\u001b[0;34m(tstr)\u001b[0m\n\u001b[1;32m     32\u001b[0m \u001b[38;5;28;01mdef\u001b[39;00m \u001b[38;5;21mparse_throughput\u001b[39m(tstr):\n\u001b[0;32m---> 33\u001b[0m     \u001b[38;5;28;01mreturn\u001b[39;00m \u001b[38;5;28mfloat\u001b[39m(\u001b[43mtstr\u001b[49m\u001b[38;5;241;43m.\u001b[39;49m\u001b[43msplit\u001b[49m\u001b[43m(\u001b[49m\u001b[38;5;124;43m\"\u001b[39;49m\u001b[38;5;124;43m,\u001b[39;49m\u001b[38;5;124;43m\"\u001b[39;49m\u001b[43m)\u001b[49m\u001b[43m[\u001b[49m\u001b[38;5;241;43m1\u001b[39;49m\u001b[43m]\u001b[49m)\n",
      "\u001b[0;31mIndexError\u001b[0m: list index out of range"
     ]
    }
   ],
   "source": [
    "num_nodes = 2\n",
    "duration = 20\n",
    "keepout = 5\n",
    "throughputs = []\n",
    "data_size = 32\n",
    "max_num_clients_per_node = 16\n",
    "step_size = 1\n",
    "for num_clients_per_node in range(1, max_num_clients_per_node + 1, step_size):\n",
    "    server_task = await run_server(\"node0\")\n",
    "    time.sleep(10)\n",
    "    ctasks = []\n",
    "    num_clients = num_nodes * num_clients_per_node\n",
    "    for node in range(1, num_nodes + 1):\n",
    "        for client in range(num_clients_per_node):\n",
    "            ctask = await run_client(\"node{}\".format(node), \"exp_C{}_node{}_id{}\".format(num_clients, node, client), duration, keepout, data_size)\n",
    "            ctasks.append(ctask)\n",
    "    local_throughputs = []\n",
    "    time.sleep(duration)\n",
    "    for ctask in ctasks:\n",
    "        coutput = await ctask.stdout.read()\n",
    "#         print(coutput)\n",
    "        local_throughputs.append(parse_throughput(coutput))\n",
    "        ctask.terminate()\n",
    "        \n",
    "    throughput = sum(local_throughputs)\n",
    "    print(\"#Nodes={}, #Clients={}, Throughput = {}/s\".format(num_nodes, num_clients, throughput))\n",
    "    throughputs.append(throughput)\n",
    "    server_task.terminate()\n",
    "    await clear_server_storage(\"node0\")\n",
    "\n",
    "%store throughputs\n",
    "%store num_nodes\n",
    "%store keepout\n",
    "%store data_size\n",
    "%store max_num_clients_per_node"
   ]
  },
  {
   "cell_type": "code",
   "execution_count": 17,
   "id": "feed596d",
   "metadata": {},
   "outputs": [
    {
     "data": {
      "image/png": "[encoded data removed]",
      "text/plain": [
       "<Figure size 640x480 with 1 Axes>"
      ]
     },
     "metadata": {},
     "output_type": "display_data"
    }
   ],
   "source": [
    "\n",
    "plt.plot([2*t for t in range(len(throughputs)+1)], [0]+throughputs)\n",
    "plt.xticks(np.arange(0,22, step = 2.0))\n",
    "plt.xlabel(\"#Clients\")\n",
    "plt.ylabel(\"Thoughput\")\n",
    "plt.show()\n"
   ]
  },
  {
   "cell_type": "code",
   "execution_count": 28,
   "id": "7ca327ea",
   "metadata": {},
   "outputs": [],
   "source": [
    "await clear_server_storage(\"node0\")\n",
    "await kill_server(\"node0\")"
   ]
  },
  {
   "cell_type": "code",
   "execution_count": null,
   "id": "bf53948c",
   "metadata": {},
   "outputs": [],
   "source": []
  }
 ],
 "metadata": {
  "kernelspec": {
   "display_name": "Python 3 (ipykernel)",
   "language": "python",
   "name": "python3"
  },
  "language_info": {
   "codemirror_mode": {
    "name": "ipython",
    "version": 3
   },
   "file_extension": ".py",
   "mimetype": "text/x-python",
   "name": "python",
   "nbconvert_exporter": "python",
   "pygments_lexer": "ipython3",
   "version": "3.8.10"
  }
 },
 "nbformat": 4,
 "nbformat_minor": 5
}
