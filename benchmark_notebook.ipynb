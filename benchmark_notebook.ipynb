{
 "cells": [
  {
   "cell_type": "code",
   "execution_count": 32,
   "id": "4bb7a569",
   "metadata": {},
   "outputs": [],
   "source": [
    "# Basic setup: imports and define helper functions\n",
    "import asyncio, asyncssh, sys, time\n",
    "\n",
    "ssh_connections = {}\n",
    "\n",
    "async def start_connection(hostname):\n",
    "    if hostname not in ssh_connections:\n",
    "        ssh_connections[hostname] = await asyncssh.connect(hostname)\n",
    "    return ssh_connections[hostname]\n",
    "\n",
    "async def run_server(hostname):\n",
    "    conn = await start_connection(hostname)\n",
    "    return (await conn.create_process('/mydata/localuser/frida/server/server'))\n",
    "\n",
    "async def run_client(hostname, device_id):\n",
    "    conn = await start_connection(hostname)\n",
    "    return (await conn.create_process('/mydata/localuser/frida/apps/config-app/throughput_client/m {}'.format(device_id)))"
   ]
  },
  {
   "cell_type": "code",
   "execution_count": 35,
   "id": "7b151a14",
   "metadata": {},
   "outputs": [],
   "source": [
    "# Run server for 10 seconds and then quit it, as a demo\n",
    "server_task = await run_server(\"node0\")\n",
    "time.sleep(10)\n",
    "server_task.terminate()"
   ]
  },
  {
   "cell_type": "code",
   "execution_count": 37,
   "id": "76bb225f",
   "metadata": {},
   "outputs": [
    {
     "name": "stdout",
     "output_type": "stream",
     "text": [
      "\n"
     ]
    }
   ],
   "source": [
    "server_task = await run_server(\"node0\")\n",
    "client_task = await run_client(\"node0\", \"abc\")\n",
    "# print(await client_task.stdout.read()) # TODO this blocks indefinitely\n",
    "time.sleep(15)\n",
    "print(await client_task.stdout.readline())\n",
    "client_task.terminate()\n",
    "server_task.terminate()"
   ]
  },
  {
   "cell_type": "code",
   "execution_count": null,
   "id": "bf53948c",
   "metadata": {},
   "outputs": [],
   "source": []
  }
 ],
 "metadata": {
  "kernelspec": {
   "display_name": "Python 3 (ipykernel)",
   "language": "python",
   "name": "python3"
  },
  "language_info": {
   "codemirror_mode": {
    "name": "ipython",
    "version": 3
   },
   "file_extension": ".py",
   "mimetype": "text/x-python",
   "name": "python",
   "nbconvert_exporter": "python",
   "pygments_lexer": "ipython3",
   "version": "3.8.10"
  }
 },
 "nbformat": 4,
 "nbformat_minor": 5
}
