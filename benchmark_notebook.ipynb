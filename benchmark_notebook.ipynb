{
 "cells": [
  {
   "cell_type": "code",
   "execution_count": 46,
   "id": "4bb7a569",
   "metadata": {},
   "outputs": [],
   "source": [
    "# !pip install numpy\n",
    "# !pip install matplotlib\n",
    "# Basic setup: imports and define helper functions\n",
    "import asyncio, asyncssh, sys, time\n",
    "import numpy as np\n",
    "import matplotlib.pyplot as plt\n",
    "\n",
    "ssh_connections = {}\n",
    "%store -r\n",
    "\n",
    "async def start_connection(hostname):\n",
    "    if hostname not in ssh_connections:\n",
    "        ssh_connections[hostname] = await asyncssh.connect(hostname, known_hosts=None)\n",
    "    return ssh_connections[hostname]\n",
    "\n",
    "async def run_command(hostname, command):\n",
    "    conn = await start_connection(hostname)\n",
    "    return (await conn.create_process(command))\n",
    "\n",
    "async def run_command_sync(hostname, command):\n",
    "    conn = await start_connection(hostname)\n",
    "    result = await conn.run(command)\n",
    "    return result.stdout\n",
    "\n",
    "async def run_server(hostname):\n",
    "    return (await run_command(hostname, '/mydata/localuser/frida/server/server'))\n",
    "\n",
    "async def run_client_throughput(hostname, device_id, duration = 10, keepout = 1, datasize = 32, server=\"http://node0:8080\", asyncOn = True):\n",
    "    command_str = '/mydata/localuser/frida/experiments/throughput_bench/client {} {} {} {} {}'.format(device_id, duration,keepout,datasize,server)\n",
    "    if asyncOn:\n",
    "        return (await run_command(hostname, command_str))\n",
    "    else:\n",
    "        return (await run_command_sync(hostname, command_str))\n",
    "async def run_multiple_clients_throughput(num_clients, hostname, device_id_prefix, duration = 10, keepout = 1, datasize = 32, server=\"http://node0:8080\", asyncOn = True):\n",
    "    command_str = 'cd /mydata/localuser/frida/experiments/throughput_bench && bash ./run_clients_local.sh {} {} {} {} {} {}'.format(num_clients, device_id_prefix, duration,keepout,datasize,server)\n",
    "    if asyncOn:\n",
    "        return (await run_command(hostname, command_str))\n",
    "    else:\n",
    "        return (await run_command_sync(hostname, command_str))\n",
    "async def clear_server_storage(hostname):\n",
    "    await run_command_sync(hostname, \"rm -r ~/storage\")\n",
    "\n",
    "async def kill_server(hostname):\n",
    "    await run_command_sync(hostname, \"pkill server\")\n",
    "    \n",
    "def parse_throughput(tstr):\n",
    "    return float(tstr.split(\",\")[1])\n"
   ]
  },
  {
   "cell_type": "code",
   "execution_count": 24,
   "id": "86350098",
   "metadata": {},
   "outputs": [
    {
     "data": {
      "text/plain": [
       "<asyncssh.process.SSHClientProcess at 0xffff713254f0>"
      ]
     },
     "execution_count": 24,
     "metadata": {},
     "output_type": "execute_result"
    }
   ],
   "source": [
    "cstr= 'cd /mydata/localuser/frida/experiments/throughput_bench && bash ./run_clients_local.sh {} {} {} {} {} http://node0:8080'.format(100, \"LEO\", 20,5,32)\n",
    "await run_command(\"node2\", cstr)"
   ]
  },
  {
   "cell_type": "code",
   "execution_count": 33,
   "id": "f3a4cddf",
   "metadata": {},
   "outputs": [],
   "source": [
    "for i in range(1,2):\n",
    "    await run_multiple_clients(200, \"node{}\".format(2), \"LEO\", duration = 30, keepout = 10, datasize=32)"
   ]
  },
  {
   "cell_type": "code",
   "execution_count": 20,
   "id": "7b151a14",
   "metadata": {},
   "outputs": [],
   "source": [
    "# Run server for 10 seconds and then quit it, as a demo\n",
    "server_task = await run_server(\"node0\")\n",
    "# time.sleep(10)\n",
    "# server_task.terminate()"
   ]
  },
  {
   "cell_type": "code",
   "execution_count": 26,
   "id": "76bb225f",
   "metadata": {},
   "outputs": [
    {
     "data": {
      "text/plain": [
       "<asyncssh.process.SSHClientProcess at 0xffff5a23a940>"
      ]
     },
     "execution_count": 26,
     "metadata": {},
     "output_type": "execute_result"
    }
   ],
   "source": [
    "server_task = await run_server(\"node0\")\n",
    "client_task = await run_client(\"node1\", \"abcd\")\n",
    "# print(await client_task.stdout.read()) # TODO this blocks indefinitely\n",
    "# time.sleep(15)\n",
    "client_task.terminate()\n",
    "server_task.terminate()\n",
    "await run_command(\"node0\", \"rm -r ~/storage\")"
   ]
  },
  {
   "cell_type": "code",
   "execution_count": 34,
   "id": "0b32e0dd",
   "metadata": {},
   "outputs": [],
   "source": [
    "# Kill everything\n",
    "for i in range(1, num_nodes + 1):\n",
    "    await run_command(\"node{}\".format(i), \"pkill client\")\n",
    "await kill_server(\"node0\")"
   ]
  },
  {
   "cell_type": "code",
   "execution_count": 55,
   "id": "1bef98dd",
   "metadata": {
    "scrolled": true
   },
   "outputs": [],
   "source": [
    "async def run_throughput_exp(num_nodes = 2, duration = 20, keepout = 5, data_size = 0, min_cpn = 20, max_cpn = 100, step_size = 5, warmup_period = 5, server_node = \"node0\"):\n",
    "    max_clients = max_num_clients_per_node * num_nodes\n",
    "    throughputs = [0]\n",
    "    num_clients_record = [0]\n",
    "    \n",
    "    await kill_server(server_node)\n",
    "    await clear_server_storage(server_node)\n",
    "    server_task = await run_server(server_node)\n",
    "\n",
    "    for num_clients_per_node in range(min_cpn, max_cpn + 1, step_size):\n",
    "        time.sleep(warmup_period)\n",
    "        ctasks = []\n",
    "        num_clients = num_nodes * num_clients_per_node\n",
    "        for node in range(1, num_nodes + 1):\n",
    "            ctask = await run_multiple_clients_throughput(num_clients_per_node, \"node{}\".format(node), \"exp_C{}_node{}\".format(num_clients, node), duration, keepout, data_size, \"http://node0:8080\")\n",
    "            ctasks.append(ctask)\n",
    "        local_throughputs = []\n",
    "        time.sleep(duration + warmup_period)\n",
    "        for ctask in ctasks:\n",
    "            coutput = await ctask.stdout.read()\n",
    "            for line in coutput.split(\"\\n\")[:-1]:\n",
    "                if line != \"\":\n",
    "                    local_throughputs.append(parse_throughput(line))\n",
    "            ctask.terminate()\n",
    "        num_clients_record.append(num_clients)\n",
    "\n",
    "        throughput = sum(local_throughputs)\n",
    "        print(\"#Nodes={}, #Clients={}, Throughput = {}/s\".format(num_nodes, num_clients, throughput))\n",
    "        throughputs.append(throughput)\n",
    "\n",
    "    server_task.terminate()\n",
    "    await clear_server_storage(server_node)\n",
    "    return num_clients_record, throughputs\n",
    "\n",
    "# %store throughputs\n",
    "# %store num_nodes\n",
    "# %store keepout\n",
    "# %store data_size\n",
    "# %store num_clients_record\n",
    "# %store max_num_clients_per_node"
   ]
  },
  {
   "cell_type": "code",
   "execution_count": 51,
   "id": "584e07ce",
   "metadata": {},
   "outputs": [
    {
     "name": "stdout",
     "output_type": "stream",
     "text": [
      "#Nodes=2, #Clients=20, Throughput = 1590.4999999999995/s\n",
      "#Nodes=2, #Clients=40, Throughput = 3506.800000000002/s\n",
      "#Nodes=2, #Clients=60, Throughput = 11197.299999999997/s\n",
      "#Nodes=2, #Clients=80, Throughput = 14282.900000000003/s\n",
      "#Nodes=2, #Clients=100, Throughput = 16333.300000000001/s\n",
      "#Nodes=2, #Clients=120, Throughput = 17425.5/s\n",
      "#Nodes=2, #Clients=140, Throughput = 17590.8/s\n",
      "#Nodes=2, #Clients=160, Throughput = 18616.799999999996/s\n",
      "#Nodes=2, #Clients=180, Throughput = 18536.6/s\n",
      "#Nodes=2, #Clients=200, Throughput = 18171.300000000007/s\n"
     ]
    }
   ],
   "source": [
    "num_clients_n1, throughputs_n1 = await run_throughput_exp(num_nodes = 1, min_cpn = 8, max_cpn = 200, step_size=8)\n",
    "%store num_clients_n1\n",
    "%store throughputs_n1\n",
    "\n",
    "num_clients_n2, throughputs_n2 = await run_throughput_exp(num_nodes = 2, min_cpn = 4, max_cpn = 100, step_size=4)\n",
    "%store num_clients_n2\n",
    "%store throughputs_n2\n",
    "\n",
    "num_clients_n4, throughputs_n4 = await run_throughput_exp(num_nodes = 4, min_cpn = 2, max_cpn = 50, step_size=2)\n",
    "%store num_clients_n4\n",
    "%store throughputs_n4\n",
    "\n",
    "num_clients_n8, throughputs_n8 = await run_throughput_exp(num_nodes = 8, min_cpn = 1, max_cpn = 25, step_size=1)\n",
    "%store num_clients_n8\n",
    "%store throughputs_n8"
   ]
  },
  {
   "cell_type": "code",
   "execution_count": 60,
   "id": "feed596d",
   "metadata": {},
   "outputs": [
    {
     "data": {
      "image/png": "[encoded data removed]",
      "text/plain": [
       "<Figure size 640x480 with 1 Axes>"
      ]
     },
     "metadata": {},
     "output_type": "display_data"
    }
   ],
   "source": [
    "plt.plot(num_clients, throughputs, label=\"11\")\n",
    "plt.plot(num_clients, throughputs, label=\"22\")\n",
    "plt.xticks(np.arange(0,max_clients + 1, step = step_size * num_nodes * 5))\n",
    "plt.xlabel(\"#Clients\")\n",
    "plt.ylabel(\"Thoughput\")\n",
    "plt.legend()\n",
    "plt.show()"
   ]
  },
  {
   "cell_type": "code",
   "execution_count": 28,
   "id": "7ca327ea",
   "metadata": {},
   "outputs": [],
   "source": [
    "await clear_server_storage(\"node0\")\n",
    "await kill_server(\"node0\")"
   ]
  },
  {
   "cell_type": "code",
   "execution_count": null,
   "id": "bf53948c",
   "metadata": {},
   "outputs": [],
   "source": []
  }
 ],
 "metadata": {
  "kernelspec": {
   "display_name": "Python 3 (ipykernel)",
   "language": "python",
   "name": "python3"
  },
  "language_info": {
   "codemirror_mode": {
    "name": "ipython",
    "version": 3
   },
   "file_extension": ".py",
   "mimetype": "text/x-python",
   "name": "python",
   "nbconvert_exporter": "python",
   "pygments_lexer": "ipython3",
   "version": "3.8.10"
  }
 },
 "nbformat": 4,
 "nbformat_minor": 5
}
