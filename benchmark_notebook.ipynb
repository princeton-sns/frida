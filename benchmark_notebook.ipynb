{
 "cells": [
  {
   "cell_type": "code",
   "execution_count": 4,
   "id": "4bb7a569",
   "metadata": {},
   "outputs": [],
   "source": [
    "# !pip install numpy\n",
    "# !pip install matplotlib\n",
    "# Basic setup: imports and define helper functions\n",
    "import asyncio, asyncssh, sys, time\n",
    "import numpy as np\n",
    "import matplotlib.pyplot as plt\n",
    "\n",
    "ssh_connections = {}\n",
    "%store -r\n",
    "\n",
    "async def start_connection(hostname):\n",
    "    if hostname not in ssh_connections:\n",
    "        ssh_connections[hostname] = await asyncssh.connect(hostname, known_hosts=None)\n",
    "    return ssh_connections[hostname]\n",
    "\n",
    "async def run_command(hostname, command):\n",
    "    conn = await start_connection(hostname)\n",
    "    return (await conn.create_process(command))\n",
    "\n",
    "async def run_command_sync(hostname, command):\n",
    "    conn = await start_connection(hostname)\n",
    "    result = await conn.run(command)\n",
    "    return result.stdout\n",
    "\n",
    "async def run_server(hostname):\n",
    "    return (await run_command(hostname, '/mydata/localuser/frida/server/server'))\n",
    "\n",
    "async def run_client_throughput(hostname, device_id, duration = 10, keepout = 1, datasize = 32, server=\"http://node0:8080\", asyncOn = True):\n",
    "    command_str = '/mydata/localuser/frida/experiments/throughput_bench/client {} {} {} {} {}'.format(device_id, duration,keepout,datasize,server)\n",
    "    if asyncOn:\n",
    "        return (await run_command(hostname, command_str))\n",
    "    else:\n",
    "        return (await run_command_sync(hostname, command_str))\n",
    "async def run_multiple_clients_throughput(num_clients, hostname, device_id_prefix, duration = 10, keepout = 1, datasize = 32, server=\"http://node0:8080\", asyncOn = True):\n",
    "    command_str = 'cd /mydata/localuser/frida/experiments/throughput_bench && bash ./run_clients_local.sh {} {} {} {} {} {}'.format(num_clients, device_id_prefix, duration,keepout,datasize,server)\n",
    "    if asyncOn:\n",
    "        return (await run_command(hostname, command_str))\n",
    "    else:\n",
    "        return (await run_command_sync(hostname, command_str))\n",
    "\n",
    "async def run_multiple_clients_latency(num_clients, hostname, device_id_prefix, duration = 10, keepout = 1, datasize = 32, server=\"http://node0:8080\", throughput = 80, asyncOn = True):\n",
    "    command_str = 'cd /mydata/localuser/frida/experiments/latency_bench && bash ./run_clients_local.sh {} {} {} {} {} {} {}'.format(num_clients, device_id_prefix, duration,keepout,datasize,server, throughput)\n",
    "    if asyncOn:\n",
    "        return (await run_command(hostname, command_str))\n",
    "    else:\n",
    "        return (await run_command_sync(hostname, command_str))\n",
    "    \n",
    "async def clear_server_storage(hostname):\n",
    "    await run_command_sync(hostname, \"rm -r ~/storage\")\n",
    "\n",
    "async def kill_server(hostname):\n",
    "    await run_command_sync(hostname, \"pkill server\")\n",
    "    \n",
    "def parse_throughput(tstr):\n",
    "    return float(tstr.split(\",\")[1])\n",
    "\n",
    "def parse_latency(tstr):\n",
    "    res = tstr.split(\",\")\n",
    "#     print(res)\n",
    "    return float(res[1]), float(res[2]), float(res[3])\n",
    "\n",
    "# Kill everything\n",
    "async def cleanup(num_nodes):\n",
    "    for i in range(1, num_nodes + 1):\n",
    "        await run_command_sync(\"node{}\".format(i), \"pkill client\")\n",
    "    await kill_server(\"node0\")\n",
    "    await clear_server_storage(\"node0\")\n",
    "\n",
    "\n"
   ]
  },
  {
   "cell_type": "code",
   "execution_count": 24,
   "id": "86350098",
   "metadata": {},
   "outputs": [
    {
     "data": {
      "text/plain": [
       "<asyncssh.process.SSHClientProcess at 0xffff713254f0>"
      ]
     },
     "execution_count": 24,
     "metadata": {},
     "output_type": "execute_result"
    }
   ],
   "source": [
    "cstr= 'cd /mydata/localuser/frida/experiments/throughput_bench && bash ./run_clients_local.sh {} {} {} {} {} http://node0:8080'.format(100, \"LEO\", 20,5,32)\n",
    "await run_command(\"node2\", cstr)"
   ]
  },
  {
   "cell_type": "code",
   "execution_count": 56,
   "id": "f3a4cddf",
   "metadata": {},
   "outputs": [],
   "source": [
    "await cleanup(10)"
   ]
  },
  {
   "cell_type": "code",
   "execution_count": 46,
   "id": "7b151a14",
   "metadata": {},
   "outputs": [],
   "source": [
    "await kill_server(\"node0\")\n",
    "await clear_server_storage(\"node0\")\n",
    "server_task = await run_server(\"node0\")"
   ]
  },
  {
   "cell_type": "code",
   "execution_count": 54,
   "id": "1bef98dd",
   "metadata": {
    "scrolled": true
   },
   "outputs": [],
   "source": [
    "async def run_throughput_exp(num_nodes = 2, duration = 20, keepout = 5, data_size = 0, min_cpn = 20, max_cpn = 100, step_size = 5, warmup_period = 5, server_node = \"node0\"):\n",
    "    max_clients = max_cpn * num_nodes\n",
    "    throughputs = [0]\n",
    "    num_clients_record = [0]\n",
    "    \n",
    "\n",
    "    for num_clients_per_node in range(min_cpn, max_cpn + 1, step_size):\n",
    "        await cleanup(num_nodes)\n",
    "        time.sleep(10)\n",
    "        server_task = await run_server(server_node)\n",
    "        time.sleep(warmup_period)\n",
    "        ctasks = []\n",
    "        num_clients = num_nodes * num_clients_per_node\n",
    "        for node in range(1, num_nodes + 1):\n",
    "            ctask = await run_multiple_clients_throughput(num_clients_per_node, \"node{}\".format(node), \"exp_C{}_node{}\".format(num_clients, node), duration, keepout, data_size, \"http://node0:8080\")\n",
    "            ctasks.append(ctask)\n",
    "        local_throughputs = []\n",
    "        time.sleep(duration + warmup_period)\n",
    "        for ctask in ctasks:\n",
    "            coutput = await ctask.stdout.read()\n",
    "            for line in coutput.split(\"\\n\")[:-1]:\n",
    "                if line != \"\":\n",
    "                    local_throughputs.append(parse_throughput(line))\n",
    "            ctask.terminate()\n",
    "        num_clients_record.append(num_clients)\n",
    "\n",
    "        throughput = sum(local_throughputs)\n",
    "        print(\"#Nodes={}, #Clients={}, Throughput = {}/s\".format(num_nodes, num_clients, throughput))\n",
    "        throughputs.append(throughput)\n",
    "\n",
    "    server_task.terminate()\n",
    "    await clear_server_storage(server_node)\n",
    "    return num_clients_record, throughputs"
   ]
  },
  {
   "cell_type": "code",
   "execution_count": 50,
   "id": "b3dd7d5e",
   "metadata": {},
   "outputs": [],
   "source": [
    "async def run_latency_exp(num_nodes = 10, duration = 20, keepout = 5, data_size = 0, num_clients_per_node = 20, min_tpc = 5, max_tpc = 80, step_size=5, warmup_period = 5, server_node = \"node0\"):\n",
    "    throughputs = []\n",
    "    latencies = []\n",
    "    num_clients_record = [0]\n",
    "    \n",
    "    for throughput in range(min_tpc, max_tpc + 1, step_size):\n",
    "        await cleanup(num_nodes)\n",
    "        time.sleep(10)\n",
    "        server_task = await run_server(server_node)\n",
    "        time.sleep(warmup_period)\n",
    "        ctasks = []\n",
    "        num_clients = num_nodes * num_clients_per_node\n",
    "        for node in range(1, num_nodes + 1):\n",
    "            ctask = await run_multiple_clients_latency(num_clients_per_node, \"node{}\".format(node), \"exp_C{}_node{}\".format(num_clients, node), duration, keepout, data_size, \"http://node0:8080\", throughput)\n",
    "            ctasks.append(ctask)\n",
    "        local_throughputs = []\n",
    "        local_latencies = []\n",
    "        local_nmsg = []\n",
    "        time.sleep(duration + warmup_period)\n",
    "        for ctask in ctasks:\n",
    "            coutput = await ctask.stdout.read()\n",
    "            for line in coutput.split(\"\\n\")[:-1]:\n",
    "                if line != \"\":\n",
    "                    thrput, lat, nmsg = parse_latency(line)\n",
    "                    local_throughputs.append(thrput)\n",
    "                    local_latencies.append(lat)\n",
    "                    local_nmsg.append(nmsg)\n",
    "            ctask.terminate()\n",
    "#         num_clients_record.append(num_clients)\n",
    "\n",
    "        throughput = sum(local_throughputs)\n",
    "        sum_lat = 0.0\n",
    "        for i in range(len(local_latencies)):\n",
    "            sum_lat += local_latencies[i] * local_nmsg[i]\n",
    "        num_msgs = sum(local_nmsg)\n",
    "        avg_lat = sum_lat / num_msgs\n",
    "        print(\"#Nodes={}, #Clients={}, Throughput = {}, Latency = {}ms, #Received = {}\".format(num_nodes, num_clients, throughput, avg_lat, num_msgs))\n",
    "        throughputs.append(throughput)\n",
    "        latencies.append(avg_lat)\n",
    "\n",
    "    server_task.terminate()\n",
    "    await clear_server_storage(server_node)\n",
    "    return throughputs, latencies"
   ]
  },
  {
   "cell_type": "code",
   "execution_count": 39,
   "id": "e9a8a867",
   "metadata": {},
   "outputs": [
    {
     "name": "stdout",
     "output_type": "stream",
     "text": [
      "#Nodes=10, #Clients=200, Throughput = 4000.0, Latency = 9.443216324999996ms, #Received = 80000.0\n",
      "#Nodes=10, #Clients=200, Throughput = 5987.350000000004, Latency = 8.115980021537114ms, #Received = 119705.0\n",
      "#Nodes=10, #Clients=200, Throughput = 7940.8499999999985, Latency = 7.612311629530287ms, #Received = 158820.0\n",
      "#Nodes=10, #Clients=200, Throughput = 9872.149999999987, Latency = 7.414702768339033ms, #Received = 197445.0\n",
      "#Nodes=10, #Clients=200, Throughput = 11845.699999999999, Latency = 7.436674512515411ms, #Received = 236844.0\n",
      "#Nodes=10, #Clients=200, Throughput = 13675.099999999999, Latency = 7.947576716850788ms, #Received = 273459.0\n",
      "#Nodes=10, #Clients=200, Throughput = 15383.549999999994, Latency = 8.848720324208983ms, #Received = 307675.0\n",
      "#Nodes=10, #Clients=200, Throughput = 16354.100000000004, Latency = 10.254407451354135ms, #Received = 326852.0\n",
      "#Nodes=10, #Clients=200, Throughput = 16933.000000000007, Latency = 10.980319437351907ms, #Received = 338454.0\n",
      "#Nodes=10, #Clients=200, Throughput = 16818.150000000005, Latency = 11.683881235942112ms, #Received = 335968.0\n",
      "#Nodes=10, #Clients=200, Throughput = 17062.649999999998, Latency = 11.661078397927337ms, #Received = 340576.0\n",
      "#Nodes=10, #Clients=200, Throughput = 17067.95000000001, Latency = 11.698273901253183ms, #Received = 340254.0\n",
      "#Nodes=10, #Clients=200, Throughput = 17113.7, Latency = 11.693932402475944ms, #Received = 341244.0\n",
      "#Nodes=10, #Clients=200, Throughput = 17089.84999999999, Latency = 11.726346686590396ms, #Received = 340189.0\n",
      "Stored 'throughputs_N10C20' (list)\n",
      "Stored 'latencies_N10C20' (list)\n"
     ]
    }
   ],
   "source": [
    "throughputs_N10C20, latencies_N10C20 = await run_latency_exp(num_nodes=10, duration = 30, keepout = 5, num_clients_per_node=20, min_tpc = 20, max_tpc = 150, step_size = 10,warmup_period = 3)\n",
    "%store throughputs_N10C20\n",
    "%store latencies_N10C20"
   ]
  },
  {
   "cell_type": "code",
   "execution_count": 44,
   "id": "6640e828",
   "metadata": {},
   "outputs": [
    {
     "name": "stdout",
     "output_type": "stream",
     "text": [
      "#Nodes=4, #Clients=80, Throughput = 3966.5999999999995, Latency = 9.558690287282719ms, #Received = 79333.0\n",
      "#Nodes=4, #Clients=80, Throughput = 4725.100000000001, Latency = 8.627670114202855ms, #Received = 94481.0\n",
      "#Nodes=4, #Clients=80, Throughput = 5495.350000000002, Latency = 7.948645530324595ms, #Received = 109891.0\n",
      "#Nodes=4, #Clients=80, Throughput = 6190.05, Latency = 8.174614599531514ms, #Received = 123803.0\n",
      "#Nodes=4, #Clients=80, Throughput = 6407.700000000001, Latency = 8.767244728081605ms, #Received = 128123.0\n",
      "#Nodes=4, #Clients=80, Throughput = 6990.300000000001, Latency = 8.08656356568318ms, #Received = 139809.0\n",
      "#Nodes=4, #Clients=80, Throughput = 7342.0, Latency = 8.17098292840021ms, #Received = 146763.0\n",
      "#Nodes=4, #Clients=80, Throughput = 7593.599999999998, Latency = 8.423305445201827ms, #Received = 151766.0\n",
      "#Nodes=4, #Clients=80, Throughput = 8095.900000000001, Latency = 8.085755256952588ms, #Received = 161803.0\n",
      "#Nodes=4, #Clients=80, Throughput = 8884.700000000003, Latency = 7.4099717169989ms, #Received = 177635.0\n",
      "#Nodes=4, #Clients=80, Throughput = 8950.55, Latency = 7.794405904520126ms, #Received = 178734.0\n",
      "#Nodes=4, #Clients=80, Throughput = 9404.949999999999, Latency = 7.678850558854995ms, #Received = 188086.0\n",
      "#Nodes=4, #Clients=80, Throughput = 9661.550000000001, Latency = 7.7360889790957375ms, #Received = 193085.0\n",
      "#Nodes=4, #Clients=80, Throughput = 10094.349999999999, Latency = 7.620264909352737ms, #Received = 201834.0\n",
      "#Nodes=4, #Clients=80, Throughput = 10204.650000000001, Latency = 7.6753668905849075ms, #Received = 203843.0\n",
      "#Nodes=4, #Clients=80, Throughput = 10106.749999999998, Latency = 7.828121291772751ms, #Received = 201720.0\n",
      "#Nodes=4, #Clients=80, Throughput = 10007.099999999999, Latency = 7.93751904769723ms, #Received = 199651.0\n",
      "#Nodes=4, #Clients=80, Throughput = 10445.849999999999, Latency = 7.635050193835132ms, #Received = 208569.0\n",
      "#Nodes=4, #Clients=80, Throughput = 9795.800000000001, Latency = 8.149623781395453ms, #Received = 195291.0\n"
     ]
    },
    {
     "ename": "CancelledError",
     "evalue": "",
     "output_type": "error",
     "traceback": [
      "\u001b[0;31m---------------------------------------------------------------------------\u001b[0m",
      "\u001b[0;31mCancelledError\u001b[0m                            Traceback (most recent call last)",
      "Cell \u001b[0;32mIn[44], line 1\u001b[0m\n\u001b[0;32m----> 1\u001b[0m throughputs_N4C20, latencies_N4C20 \u001b[38;5;241m=\u001b[39m \u001b[38;5;28;01mawait\u001b[39;00m run_latency_exp(num_nodes\u001b[38;5;241m=\u001b[39m\u001b[38;5;241m4\u001b[39m, duration \u001b[38;5;241m=\u001b[39m \u001b[38;5;241m30\u001b[39m, keepout \u001b[38;5;241m=\u001b[39m \u001b[38;5;241m5\u001b[39m, num_clients_per_node\u001b[38;5;241m=\u001b[39m\u001b[38;5;241m20\u001b[39m, min_tpc \u001b[38;5;241m=\u001b[39m \u001b[38;5;241m50\u001b[39m, max_tpc \u001b[38;5;241m=\u001b[39m \u001b[38;5;241m300\u001b[39m, step_size \u001b[38;5;241m=\u001b[39m \u001b[38;5;241m10\u001b[39m,warmup_period \u001b[38;5;241m=\u001b[39m \u001b[38;5;241m3\u001b[39m)\n\u001b[1;32m      2\u001b[0m get_ipython()\u001b[38;5;241m.\u001b[39mrun_line_magic(\u001b[38;5;124m'\u001b[39m\u001b[38;5;124mstore\u001b[39m\u001b[38;5;124m'\u001b[39m, \u001b[38;5;124m'\u001b[39m\u001b[38;5;124mthroughputs_N4C20\u001b[39m\u001b[38;5;124m'\u001b[39m)\n\u001b[1;32m      3\u001b[0m get_ipython()\u001b[38;5;241m.\u001b[39mrun_line_magic(\u001b[38;5;124m'\u001b[39m\u001b[38;5;124mstore\u001b[39m\u001b[38;5;124m'\u001b[39m, \u001b[38;5;124m'\u001b[39m\u001b[38;5;124mlatencies_N4C20\u001b[39m\u001b[38;5;124m'\u001b[39m)\n",
      "Cell \u001b[0;32mIn[19], line 21\u001b[0m, in \u001b[0;36mrun_latency_exp\u001b[0;34m(num_nodes, duration, keepout, data_size, num_clients_per_node, min_tpc, max_tpc, step_size, warmup_period, server_node)\u001b[0m\n\u001b[1;32m     19\u001b[0m time\u001b[38;5;241m.\u001b[39msleep(duration \u001b[38;5;241m+\u001b[39m warmup_period)\n\u001b[1;32m     20\u001b[0m \u001b[38;5;28;01mfor\u001b[39;00m ctask \u001b[38;5;129;01min\u001b[39;00m ctasks:\n\u001b[0;32m---> 21\u001b[0m     coutput \u001b[38;5;241m=\u001b[39m \u001b[38;5;28;01mawait\u001b[39;00m ctask\u001b[38;5;241m.\u001b[39mstdout\u001b[38;5;241m.\u001b[39mread()\n\u001b[1;32m     22\u001b[0m     \u001b[38;5;28;01mfor\u001b[39;00m line \u001b[38;5;129;01min\u001b[39;00m coutput\u001b[38;5;241m.\u001b[39msplit(\u001b[38;5;124m\"\u001b[39m\u001b[38;5;130;01m\\n\u001b[39;00m\u001b[38;5;124m\"\u001b[39m)[:\u001b[38;5;241m-\u001b[39m\u001b[38;5;241m1\u001b[39m]:\n\u001b[1;32m     23\u001b[0m         \u001b[38;5;28;01mif\u001b[39;00m line \u001b[38;5;241m!=\u001b[39m \u001b[38;5;124m\"\u001b[39m\u001b[38;5;124m\"\u001b[39m:\n",
      "File \u001b[0;32m/usr/local/lib/python3.8/dist-packages/asyncssh/stream.py:157\u001b[0m, in \u001b[0;36mSSHReader.read\u001b[0;34m(self, n)\u001b[0m\n\u001b[1;32m    137\u001b[0m \u001b[38;5;28;01masync\u001b[39;00m \u001b[38;5;28;01mdef\u001b[39;00m \u001b[38;5;21mread\u001b[39m(\u001b[38;5;28mself\u001b[39m, n: \u001b[38;5;28mint\u001b[39m \u001b[38;5;241m=\u001b[39m \u001b[38;5;241m-\u001b[39m\u001b[38;5;241m1\u001b[39m) \u001b[38;5;241m-\u001b[39m\u001b[38;5;241m>\u001b[39m AnyStr:\n\u001b[1;32m    138\u001b[0m     \u001b[38;5;124;03m\"\"\"Read data from the stream\u001b[39;00m\n\u001b[1;32m    139\u001b[0m \n\u001b[1;32m    140\u001b[0m \u001b[38;5;124;03m       This method is a coroutine which reads up to `n` bytes\u001b[39;00m\n\u001b[0;32m   (...)\u001b[0m\n\u001b[1;32m    154\u001b[0m \n\u001b[1;32m    155\u001b[0m \u001b[38;5;124;03m    \"\"\"\u001b[39;00m\n\u001b[0;32m--> 157\u001b[0m     \u001b[38;5;28;01mreturn\u001b[39;00m \u001b[38;5;28;01mawait\u001b[39;00m \u001b[38;5;28mself\u001b[39m\u001b[38;5;241m.\u001b[39m_session\u001b[38;5;241m.\u001b[39mread(n, \u001b[38;5;28mself\u001b[39m\u001b[38;5;241m.\u001b[39m_datatype, exact\u001b[38;5;241m=\u001b[39m\u001b[38;5;28;01mFalse\u001b[39;00m)\n",
      "File \u001b[0;32m/usr/local/lib/python3.8/dist-packages/asyncssh/stream.py:548\u001b[0m, in \u001b[0;36mSSHStreamSession.read\u001b[0;34m(self, n, datatype, exact)\u001b[0m\n\u001b[1;32m    544\u001b[0m         \u001b[38;5;28;01mif\u001b[39;00m n \u001b[38;5;241m==\u001b[39m \u001b[38;5;241m0\u001b[39m \u001b[38;5;129;01mor\u001b[39;00m (n \u001b[38;5;241m>\u001b[39m \u001b[38;5;241m0\u001b[39m \u001b[38;5;129;01mand\u001b[39;00m data \u001b[38;5;129;01mand\u001b[39;00m \u001b[38;5;129;01mnot\u001b[39;00m exact) \u001b[38;5;129;01mor\u001b[39;00m \\\n\u001b[1;32m    545\u001b[0m                 (n \u001b[38;5;241m<\u001b[39m \u001b[38;5;241m0\u001b[39m \u001b[38;5;129;01mand\u001b[39;00m recv_buf) \u001b[38;5;129;01mor\u001b[39;00m \u001b[38;5;28mself\u001b[39m\u001b[38;5;241m.\u001b[39m_eof_received:\n\u001b[1;32m    546\u001b[0m             \u001b[38;5;28;01mbreak\u001b[39;00m\n\u001b[0;32m--> 548\u001b[0m         \u001b[38;5;28;01mawait\u001b[39;00m \u001b[38;5;28mself\u001b[39m\u001b[38;5;241m.\u001b[39m_block_read(datatype)\n\u001b[1;32m    550\u001b[0m result \u001b[38;5;241m=\u001b[39m cast(AnyStr, \u001b[38;5;124m'\u001b[39m\u001b[38;5;124m'\u001b[39m \u001b[38;5;28;01mif\u001b[39;00m \u001b[38;5;28mself\u001b[39m\u001b[38;5;241m.\u001b[39m_encoding \u001b[38;5;28;01melse\u001b[39;00m \u001b[38;5;124mb\u001b[39m\u001b[38;5;124m'\u001b[39m\u001b[38;5;124m'\u001b[39m)\u001b[38;5;241m.\u001b[39mjoin(data)\n\u001b[1;32m    552\u001b[0m \u001b[38;5;28;01mif\u001b[39;00m n \u001b[38;5;241m>\u001b[39m \u001b[38;5;241m0\u001b[39m \u001b[38;5;129;01mand\u001b[39;00m exact:\n",
      "File \u001b[0;32m/usr/local/lib/python3.8/dist-packages/asyncssh/stream.py:385\u001b[0m, in \u001b[0;36mSSHStreamSession._block_read\u001b[0;34m(self, datatype)\u001b[0m\n\u001b[1;32m    383\u001b[0m     waiter: _WaiterFuture \u001b[38;5;241m=\u001b[39m \u001b[38;5;28mself\u001b[39m\u001b[38;5;241m.\u001b[39m_loop\u001b[38;5;241m.\u001b[39mcreate_future()\n\u001b[1;32m    384\u001b[0m     \u001b[38;5;28mself\u001b[39m\u001b[38;5;241m.\u001b[39m_read_waiters[datatype] \u001b[38;5;241m=\u001b[39m waiter\n\u001b[0;32m--> 385\u001b[0m     \u001b[38;5;28;01mawait\u001b[39;00m waiter\n\u001b[1;32m    386\u001b[0m \u001b[38;5;28;01mfinally\u001b[39;00m:\n\u001b[1;32m    387\u001b[0m     \u001b[38;5;28mself\u001b[39m\u001b[38;5;241m.\u001b[39m_read_waiters[datatype] \u001b[38;5;241m=\u001b[39m \u001b[38;5;28;01mNone\u001b[39;00m\n",
      "\u001b[0;31mCancelledError\u001b[0m: "
     ]
    }
   ],
   "source": [
    "throughputs_N4C20, latencies_N4C20 = await run_latency_exp(num_nodes=4, duration = 30, keepout = 5, num_clients_per_node=20, min_tpc = 50, max_tpc = 300, step_size = 10,warmup_period = 3)\n",
    "%store throughputs_N4C20\n",
    "%store latencies_N4C20"
   ]
  },
  {
   "cell_type": "code",
   "execution_count": 37,
   "id": "5e1b6899",
   "metadata": {},
   "outputs": [],
   "source": [
    "def co_sort(arr1, arr2, on=\"first\"):\n",
    "    combined = [(arr1[i], arr2[i]) for i in range(len(arr1))]\n",
    "    combined.sort(key=(lambda x:x[0]) if on==\"first\" else (lambda x:x[1]))\n",
    "    return [e[0] for e in combined],[e[1] for e in combined]"
   ]
  },
  {
   "cell_type": "code",
   "execution_count": 40,
   "id": "4eeddedc",
   "metadata": {},
   "outputs": [
    {
     "data": {
      "image/png": "[encoded data removed]",
      "text/plain": [
       "<Figure size 640x480 with 1 Axes>"
      ]
     },
     "metadata": {},
     "output_type": "display_data"
    }
   ],
   "source": [
    "throughputs_sorted, latencies_sorted = co_sort(throughputs_N10C20, latencies_N10C20)\n",
    "plt.plot(np.array(throughputs_sorted)/1000, latencies_sorted, label=\"10 Nodes * 20 Clients\")\n",
    "# plt.plot(num_clients, throughputs, label=\"22\")\n",
    "plt.xticks(np.arange(5, 18, step = 1))\n",
    "plt.xlabel(\"Throughput (1K req/s)\")\n",
    "plt.ylabel(\"Latency (ms)\")\n",
    "plt.legend()\n",
    "plt.show()"
   ]
  },
  {
   "cell_type": "code",
   "execution_count": 55,
   "id": "584e07ce",
   "metadata": {},
   "outputs": [
    {
     "name": "stdout",
     "output_type": "stream",
     "text": [
      "#Nodes=1, #Clients=8, Throughput = 632.4000000000001/s\n",
      "#Nodes=1, #Clients=16, Throughput = 1263.0/s\n",
      "#Nodes=1, #Clients=24, Throughput = 1869.0/s\n",
      "#Nodes=1, #Clients=32, Throughput = 2502.3999999999996/s\n",
      "#Nodes=1, #Clients=40, Throughput = 2706.9000000000005/s\n",
      "#Nodes=1, #Clients=48, Throughput = 3598.5/s\n"
     ]
    },
    {
     "ename": "CancelledError",
     "evalue": "",
     "output_type": "error",
     "traceback": [
      "\u001b[0;31m---------------------------------------------------------------------------\u001b[0m",
      "\u001b[0;31mCancelledError\u001b[0m                            Traceback (most recent call last)",
      "Cell \u001b[0;32mIn[55], line 1\u001b[0m\n\u001b[0;32m----> 1\u001b[0m num_clients_n1, throughputs_n1 \u001b[38;5;241m=\u001b[39m \u001b[38;5;28;01mawait\u001b[39;00m run_throughput_exp(num_nodes \u001b[38;5;241m=\u001b[39m \u001b[38;5;241m1\u001b[39m, min_cpn \u001b[38;5;241m=\u001b[39m \u001b[38;5;241m8\u001b[39m, max_cpn \u001b[38;5;241m=\u001b[39m \u001b[38;5;241m200\u001b[39m, step_size\u001b[38;5;241m=\u001b[39m\u001b[38;5;241m8\u001b[39m)\n\u001b[1;32m      2\u001b[0m get_ipython()\u001b[38;5;241m.\u001b[39mrun_line_magic(\u001b[38;5;124m'\u001b[39m\u001b[38;5;124mstore\u001b[39m\u001b[38;5;124m'\u001b[39m, \u001b[38;5;124m'\u001b[39m\u001b[38;5;124mnum_clients_n1\u001b[39m\u001b[38;5;124m'\u001b[39m)\n\u001b[1;32m      3\u001b[0m get_ipython()\u001b[38;5;241m.\u001b[39mrun_line_magic(\u001b[38;5;124m'\u001b[39m\u001b[38;5;124mstore\u001b[39m\u001b[38;5;124m'\u001b[39m, \u001b[38;5;124m'\u001b[39m\u001b[38;5;124mthroughputs_n1\u001b[39m\u001b[38;5;124m'\u001b[39m)\n",
      "Cell \u001b[0;32mIn[54], line 20\u001b[0m, in \u001b[0;36mrun_throughput_exp\u001b[0;34m(num_nodes, duration, keepout, data_size, min_cpn, max_cpn, step_size, warmup_period, server_node)\u001b[0m\n\u001b[1;32m     18\u001b[0m time\u001b[38;5;241m.\u001b[39msleep(duration \u001b[38;5;241m+\u001b[39m warmup_period)\n\u001b[1;32m     19\u001b[0m \u001b[38;5;28;01mfor\u001b[39;00m ctask \u001b[38;5;129;01min\u001b[39;00m ctasks:\n\u001b[0;32m---> 20\u001b[0m     coutput \u001b[38;5;241m=\u001b[39m \u001b[38;5;28;01mawait\u001b[39;00m ctask\u001b[38;5;241m.\u001b[39mstdout\u001b[38;5;241m.\u001b[39mread()\n\u001b[1;32m     21\u001b[0m     \u001b[38;5;28;01mfor\u001b[39;00m line \u001b[38;5;129;01min\u001b[39;00m coutput\u001b[38;5;241m.\u001b[39msplit(\u001b[38;5;124m\"\u001b[39m\u001b[38;5;130;01m\\n\u001b[39;00m\u001b[38;5;124m\"\u001b[39m)[:\u001b[38;5;241m-\u001b[39m\u001b[38;5;241m1\u001b[39m]:\n\u001b[1;32m     22\u001b[0m         \u001b[38;5;28;01mif\u001b[39;00m line \u001b[38;5;241m!=\u001b[39m \u001b[38;5;124m\"\u001b[39m\u001b[38;5;124m\"\u001b[39m:\n",
      "File \u001b[0;32m/usr/local/lib/python3.8/dist-packages/asyncssh/stream.py:157\u001b[0m, in \u001b[0;36mSSHReader.read\u001b[0;34m(self, n)\u001b[0m\n\u001b[1;32m    137\u001b[0m \u001b[38;5;28;01masync\u001b[39;00m \u001b[38;5;28;01mdef\u001b[39;00m \u001b[38;5;21mread\u001b[39m(\u001b[38;5;28mself\u001b[39m, n: \u001b[38;5;28mint\u001b[39m \u001b[38;5;241m=\u001b[39m \u001b[38;5;241m-\u001b[39m\u001b[38;5;241m1\u001b[39m) \u001b[38;5;241m-\u001b[39m\u001b[38;5;241m>\u001b[39m AnyStr:\n\u001b[1;32m    138\u001b[0m     \u001b[38;5;124;03m\"\"\"Read data from the stream\u001b[39;00m\n\u001b[1;32m    139\u001b[0m \n\u001b[1;32m    140\u001b[0m \u001b[38;5;124;03m       This method is a coroutine which reads up to `n` bytes\u001b[39;00m\n\u001b[0;32m   (...)\u001b[0m\n\u001b[1;32m    154\u001b[0m \n\u001b[1;32m    155\u001b[0m \u001b[38;5;124;03m    \"\"\"\u001b[39;00m\n\u001b[0;32m--> 157\u001b[0m     \u001b[38;5;28;01mreturn\u001b[39;00m \u001b[38;5;28;01mawait\u001b[39;00m \u001b[38;5;28mself\u001b[39m\u001b[38;5;241m.\u001b[39m_session\u001b[38;5;241m.\u001b[39mread(n, \u001b[38;5;28mself\u001b[39m\u001b[38;5;241m.\u001b[39m_datatype, exact\u001b[38;5;241m=\u001b[39m\u001b[38;5;28;01mFalse\u001b[39;00m)\n",
      "File \u001b[0;32m/usr/local/lib/python3.8/dist-packages/asyncssh/stream.py:548\u001b[0m, in \u001b[0;36mSSHStreamSession.read\u001b[0;34m(self, n, datatype, exact)\u001b[0m\n\u001b[1;32m    544\u001b[0m         \u001b[38;5;28;01mif\u001b[39;00m n \u001b[38;5;241m==\u001b[39m \u001b[38;5;241m0\u001b[39m \u001b[38;5;129;01mor\u001b[39;00m (n \u001b[38;5;241m>\u001b[39m \u001b[38;5;241m0\u001b[39m \u001b[38;5;129;01mand\u001b[39;00m data \u001b[38;5;129;01mand\u001b[39;00m \u001b[38;5;129;01mnot\u001b[39;00m exact) \u001b[38;5;129;01mor\u001b[39;00m \\\n\u001b[1;32m    545\u001b[0m                 (n \u001b[38;5;241m<\u001b[39m \u001b[38;5;241m0\u001b[39m \u001b[38;5;129;01mand\u001b[39;00m recv_buf) \u001b[38;5;129;01mor\u001b[39;00m \u001b[38;5;28mself\u001b[39m\u001b[38;5;241m.\u001b[39m_eof_received:\n\u001b[1;32m    546\u001b[0m             \u001b[38;5;28;01mbreak\u001b[39;00m\n\u001b[0;32m--> 548\u001b[0m         \u001b[38;5;28;01mawait\u001b[39;00m \u001b[38;5;28mself\u001b[39m\u001b[38;5;241m.\u001b[39m_block_read(datatype)\n\u001b[1;32m    550\u001b[0m result \u001b[38;5;241m=\u001b[39m cast(AnyStr, \u001b[38;5;124m'\u001b[39m\u001b[38;5;124m'\u001b[39m \u001b[38;5;28;01mif\u001b[39;00m \u001b[38;5;28mself\u001b[39m\u001b[38;5;241m.\u001b[39m_encoding \u001b[38;5;28;01melse\u001b[39;00m \u001b[38;5;124mb\u001b[39m\u001b[38;5;124m'\u001b[39m\u001b[38;5;124m'\u001b[39m)\u001b[38;5;241m.\u001b[39mjoin(data)\n\u001b[1;32m    552\u001b[0m \u001b[38;5;28;01mif\u001b[39;00m n \u001b[38;5;241m>\u001b[39m \u001b[38;5;241m0\u001b[39m \u001b[38;5;129;01mand\u001b[39;00m exact:\n",
      "File \u001b[0;32m/usr/local/lib/python3.8/dist-packages/asyncssh/stream.py:385\u001b[0m, in \u001b[0;36mSSHStreamSession._block_read\u001b[0;34m(self, datatype)\u001b[0m\n\u001b[1;32m    383\u001b[0m     waiter: _WaiterFuture \u001b[38;5;241m=\u001b[39m \u001b[38;5;28mself\u001b[39m\u001b[38;5;241m.\u001b[39m_loop\u001b[38;5;241m.\u001b[39mcreate_future()\n\u001b[1;32m    384\u001b[0m     \u001b[38;5;28mself\u001b[39m\u001b[38;5;241m.\u001b[39m_read_waiters[datatype] \u001b[38;5;241m=\u001b[39m waiter\n\u001b[0;32m--> 385\u001b[0m     \u001b[38;5;28;01mawait\u001b[39;00m waiter\n\u001b[1;32m    386\u001b[0m \u001b[38;5;28;01mfinally\u001b[39;00m:\n\u001b[1;32m    387\u001b[0m     \u001b[38;5;28mself\u001b[39m\u001b[38;5;241m.\u001b[39m_read_waiters[datatype] \u001b[38;5;241m=\u001b[39m \u001b[38;5;28;01mNone\u001b[39;00m\n",
      "\u001b[0;31mCancelledError\u001b[0m: "
     ]
    }
   ],
   "source": [
    "num_clients_n1, throughputs_n1 = await run_throughput_exp(num_nodes = 1, min_cpn = 8, max_cpn = 200, step_size=8)\n",
    "%store num_clients_n1\n",
    "%store throughputs_n1\n",
    "\n",
    "num_clients_n2, throughputs_n2 = await run_throughput_exp(num_nodes = 2, min_cpn = 4, max_cpn = 100, step_size=4)\n",
    "%store num_clients_n2\n",
    "%store throughputs_n2\n",
    "\n",
    "num_clients_n4, throughputs_n4 = await run_throughput_exp(num_nodes = 4, min_cpn = 2, max_cpn = 50, step_size=2)\n",
    "%store num_clients_n4\n",
    "%store throughputs_n4\n",
    "\n",
    "num_clients_n8, throughputs_n8 = await run_throughput_exp(num_nodes = 8, min_cpn = 1, max_cpn = 25, step_size=1)\n",
    "%store num_clients_n8\n",
    "%store throughputs_n8"
   ]
  },
  {
   "cell_type": "code",
   "execution_count": 60,
   "id": "feed596d",
   "metadata": {},
   "outputs": [
    {
     "data": {
      "image/png": "[encoded data removed]",
      "text/plain": [
       "<Figure size 640x480 with 1 Axes>"
      ]
     },
     "metadata": {},
     "output_type": "display_data"
    }
   ],
   "source": [
    "plt.plot(num_clients, throughputs, label=\"11\")\n",
    "plt.plot(num_clients, throughputs, label=\"22\")\n",
    "plt.xticks(np.arange(0,max_clients + 1, step = step_size * num_nodes * 5))\n",
    "plt.xlabel(\"#Clients\")\n",
    "plt.ylabel(\"Thoughput\")\n",
    "plt.legend()\n",
    "plt.show()"
   ]
  },
  {
   "cell_type": "code",
   "execution_count": 28,
   "id": "7ca327ea",
   "metadata": {},
   "outputs": [],
   "source": [
    "await clear_server_storage(\"node0\")\n",
    "await kill_server(\"node0\")"
   ]
  },
  {
   "cell_type": "code",
   "execution_count": null,
   "id": "bf53948c",
   "metadata": {},
   "outputs": [],
   "source": []
  }
 ],
 "metadata": {
  "kernelspec": {
   "display_name": "Python 3 (ipykernel)",
   "language": "python",
   "name": "python3"
  },
  "language_info": {
   "codemirror_mode": {
    "name": "ipython",
    "version": 3
   },
   "file_extension": ".py",
   "mimetype": "text/x-python",
   "name": "python",
   "nbconvert_exporter": "python",
   "pygments_lexer": "ipython3",
   "version": "3.8.10"
  }
 },
 "nbformat": 4,
 "nbformat_minor": 5
}
