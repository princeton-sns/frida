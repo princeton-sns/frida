{
 "cells": [
  {
   "cell_type": "code",
   "execution_count": 99,
   "id": "4bb7a569",
   "metadata": {},
   "outputs": [],
   "source": [
    "# !pip install numpy\n",
    "# !pip install matplotlib\n",
    "# Basic setup: imports and define helper functions\n",
    "import asyncio, asyncssh, sys, time\n",
    "import numpy as np\n",
    "import matplotlib.pyplot as plt\n",
    "\n",
    "ssh_connections = {}\n",
    "%store -r\n",
    "\n",
    "async def start_connection(hostname):\n",
    "    if hostname not in ssh_connections:\n",
    "        ssh_connections[hostname] = await asyncssh.connect(hostname, known_hosts=None)\n",
    "    return ssh_connections[hostname]\n",
    "\n",
    "async def run_command(hostname, command):\n",
    "    conn = await start_connection(hostname)\n",
    "    return (await conn.create_process(command))\n",
    "\n",
    "async def run_command_sync(hostname, command):\n",
    "    conn = await start_connection(hostname)\n",
    "    result = await conn.run(command)\n",
    "    return result.stdout\n",
    "\n",
    "async def run_server(hostname):\n",
    "    return (await run_command(hostname, '/mydata/localuser/frida/server/server'))\n",
    "\n",
    "async def run_client(hostname, device_id, duration = 10, keepout = 1, datasize = 32, server=\"http://node0:8080\", asyncOn = True):\n",
    "    command_str = '/mydata/localuser/frida/experiments/throughput_bench/client {} {} {} {} {}'.format(device_id, duration,keepout,datasize,server)\n",
    "    if asyncOn:\n",
    "        return (await run_command(hostname, command_str))\n",
    "    else:\n",
    "        return (await run_command_sync(hostname, command_str))\n",
    "async def run_multiple_clients(num_clients, hostname, device_id_prefix, duration = 10, keepout = 1, datasize = 32, server=\"http://node0:8080\", asyncOn = True):\n",
    "    command_str = 'cd /mydata/localuser/frida/experiments/throughput_bench && bash ./run_clients_local.sh {} {} {} {} {} {}'.format(num_clients, device_id_prefix, duration,keepout,datasize,server)\n",
    "    if asyncOn:\n",
    "        return (await run_command(hostname, command_str))\n",
    "    else:\n",
    "        return (await run_command_sync(hostname, command_str))\n",
    "async def clear_server_storage(hostname):\n",
    "    await run_command(hostname, \"rm -r ~/storage\")\n",
    "\n",
    "async def kill_server(hostname):\n",
    "    await run_command(hostname, \"pkill server\")\n",
    "    \n",
    "def parse_throughput(tstr):\n",
    "    return float(tstr.split(\",\")[1])\n"
   ]
  },
  {
   "cell_type": "code",
   "execution_count": 101,
   "id": "4879484e",
   "metadata": {
    "scrolled": true
   },
   "outputs": [
    {
     "name": "stdout",
     "output_type": "stream",
     "text": [
      "['abcde_2, 86.375', 'abcde_3, 86.375', 'abcde_0, 86.5', 'abcde_5, 86.5', 'abcde_11, 86.625', 'abcde_1, 86.5', 'abcde_10, 86.625', 'abcde_7, 86.625', 'abcde_13, 86.5', 'abcde_6, 86.5', 'abcde_17, 86.625', 'abcde_18, 86.5', 'abcde_4, 86.625', 'abcde_9, 86.5', 'abcde_15, 86.5', 'abcde_8, 86.625', 'abcde_19, 86.625', 'abcde_12, 86.75', 'abcde_14, 86.625', 'abcde_16, 86.625']\n"
     ]
    }
   ],
   "source": [
    "client_task = await run_multiple_clients(20, \"node1\", \"abcde\", 10)\n",
    "print((await client_task.stdout.read()).split('\\n')[:-1])"
   ]
  },
  {
   "cell_type": "code",
   "execution_count": 82,
   "id": "7b151a14",
   "metadata": {},
   "outputs": [],
   "source": [
    "# Run server for 10 seconds and then quit it, as a demo\n",
    "server_task = await run_server(\"node0\")\n",
    "# time.sleep(10)\n",
    "# server_task.terminate()"
   ]
  },
  {
   "cell_type": "code",
   "execution_count": 26,
   "id": "76bb225f",
   "metadata": {},
   "outputs": [
    {
     "data": {
      "text/plain": [
       "<asyncssh.process.SSHClientProcess at 0xffff5a23a940>"
      ]
     },
     "execution_count": 26,
     "metadata": {},
     "output_type": "execute_result"
    }
   ],
   "source": [
    "server_task = await run_server(\"node0\")\n",
    "client_task = await run_client(\"node1\", \"abcd\")\n",
    "# print(await client_task.stdout.read()) # TODO this blocks indefinitely\n",
    "# time.sleep(15)\n",
    "client_task.terminate()\n",
    "server_task.terminate()\n",
    "await run_command(\"node0\", \"rm -r ~/storage\")"
   ]
  },
  {
   "cell_type": "code",
   "execution_count": 111,
   "id": "1bef98dd",
   "metadata": {},
   "outputs": [
    {
     "name": "stdout",
     "output_type": "stream",
     "text": [
      "#Nodes=2, #Clients=100, Throughput = 4115.999999999999/s\n",
      "#Nodes=2, #Clients=200, Throughput = 12449.1/s\n",
      "#Nodes=2, #Clients=300, Throughput = 13778.099999999999/s\n",
      "#Nodes=2, #Clients=400, Throughput = 14703.199999999993/s\n",
      "#Nodes=2, #Clients=500, Throughput = 15010.800000000001/s\n",
      "#Nodes=2, #Clients=600, Throughput = 15998.8/s\n",
      "#Nodes=2, #Clients=700, Throughput = 15598.299999999997/s\n",
      "#Nodes=2, #Clients=800, Throughput = 16840.800000000007/s\n",
      "Stored 'throughputs' (list)\n",
      "Stored 'num_nodes' (int)\n",
      "Stored 'keepout' (int)\n",
      "Stored 'data_size' (int)\n",
      "Stored 'max_num_clients_per_node' (int)\n"
     ]
    }
   ],
   "source": [
    "num_nodes = 2\n",
    "duration = 16\n",
    "keepout = 3\n",
    "throughputs = []\n",
    "data_size = 32\n",
    "max_num_clients_per_node = 400\n",
    "step_size = 50\n",
    "\n",
    "await clear_server_storage(\"node0\")\n",
    "server_task = await run_server(\"node0\")\n",
    "for num_clients_per_node in range(50, max_num_clients_per_node + 1, step_size):\n",
    "    time.sleep(5)\n",
    "    ctasks = []\n",
    "    num_clients = num_nodes * num_clients_per_node\n",
    "#     for node in range(1, num_nodes + 1):\n",
    "#         for client in range(num_clients_per_node):\n",
    "#             ctask = await run_client(\"node{}\".format(node), \"exp_C{}_node{}_id{}\".format(num_clients, node, client), duration, keepout, data_size)\n",
    "    ctask = await run_multiple_clients(num_clients_per_node, \"node{}\".format(node), \"exp_C{}_node{}\".format(num_clients, node), duration, keepout, data_size)\n",
    "    ctasks.append(ctask)\n",
    "    local_throughputs = []\n",
    "    time.sleep(duration)\n",
    "    for ctask in ctasks:\n",
    "        coutput = await ctask.stdout.read()\n",
    "        for line in coutput.split(\"\\n\")[:-1]:\n",
    "            if line != \"\":\n",
    "                local_throughputs.append(parse_throughput(line))\n",
    "        ctask.terminate()\n",
    "        \n",
    "    throughput = sum(local_throughputs)\n",
    "    print(\"#Nodes={}, #Clients={}, Throughput = {}/s\".format(num_nodes, num_clients, throughput))\n",
    "    throughputs.append(throughput)\n",
    "server_task.terminate()\n",
    "await clear_server_storage(\"node0\")\n",
    "\n",
    "%store throughputs\n",
    "%store num_nodes\n",
    "%store keepout\n",
    "%store data_size\n",
    "%store max_num_clients_per_node"
   ]
  },
  {
   "cell_type": "code",
   "execution_count": 113,
   "id": "feed596d",
   "metadata": {},
   "outputs": [
    {
     "data": {
      "image/png": "[encoded data removed]",
      "text/plain": [
       "<Figure size 640x480 with 1 Axes>"
      ]
     },
     "metadata": {},
     "output_type": "display_data"
    }
   ],
   "source": [
    "plt.plot([step_size*2*t for t in range(len(throughputs)+1)], [0]+throughputs)\n",
    "plt.xticks(np.arange(0,max_num_clients_per_node * 2 + 1, step = step_size))\n",
    "plt.xlabel(\"#Clients\")\n",
    "plt.ylabel(\"Thoughput\")\n",
    "plt.show()\n"
   ]
  },
  {
   "cell_type": "code",
   "execution_count": 28,
   "id": "7ca327ea",
   "metadata": {},
   "outputs": [],
   "source": [
    "await clear_server_storage(\"node0\")\n",
    "await kill_server(\"node0\")"
   ]
  },
  {
   "cell_type": "code",
   "execution_count": null,
   "id": "bf53948c",
   "metadata": {},
   "outputs": [],
   "source": []
  }
 ],
 "metadata": {
  "kernelspec": {
   "display_name": "Python 3 (ipykernel)",
   "language": "python",
   "name": "python3"
  },
  "language_info": {
   "codemirror_mode": {
    "name": "ipython",
    "version": 3
   },
   "file_extension": ".py",
   "mimetype": "text/x-python",
   "name": "python",
   "nbconvert_exporter": "python",
   "pygments_lexer": "ipython3",
   "version": "3.8.10"
  }
 },
 "nbformat": 4,
 "nbformat_minor": 5
}
